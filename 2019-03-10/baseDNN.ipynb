{
 "cells": [
  {
   "cell_type": "code",
   "execution_count": 74,
   "metadata": {},
   "outputs": [
    {
     "name": "stdout",
     "output_type": "stream",
     "text": [
      "(10000, 28, 28)\n",
      "(10000,)\n",
      "(10000, 784)\n",
      "(10000, 10)\n"
     ]
    }
   ],
   "source": [
    "import numpy as np\n",
    "from keras.models import Sequential,Model\n",
    "from keras.layers import Dense, Dropout, Activation, Flatten\n",
    "from keras.layers import Convolution2D, MaxPooling2D\n",
    "from keras.utils import np_utils\n",
    "from keras.datasets import mnist\n",
    "from keras import optimizers\n",
    "\n",
    "import matplotlib.pyplot as plt\n",
    "%matplotlib inline\n",
    "\n",
    "def load_data():\n",
    "    (x_train, y_train), (x_test, y_test) = mnist.load_data()\n",
    "    number=10000\n",
    "    x_train = x_train[0:number]\n",
    "    y_train = y_train[0:number]\n",
    "    print(x_train.shape)\n",
    "    print(y_train.shape)\n",
    "\n",
    "    x_train = x_train.reshape(number, 28*28)\n",
    "    x_test  = x_test.reshape(number, 28*28)\n",
    "    y_train = np_utils.to_categorical(y_train, 10)\n",
    "    y_test = np_utils.to_categorical(y_test, 10)\n",
    "    x_train = x_train/255\n",
    "    x_test = x_test/255\n",
    "#     x_test = np.random.normal(x_test);  # add noise\n",
    "    return (x_train, y_train), (x_test, y_test)\n",
    "\n",
    "# Load MNIST data and preprocess\n",
    "(x_train, y_train), (x_test, y_test) = load_data()\n",
    "\n",
    "print(x_train.shape)\n",
    "print(y_train.shape)\n",
    "# plt.imshow(x_train[0].reshape(28,28))\n"
   ]
  },
  {
   "cell_type": "code",
   "execution_count": 96,
   "metadata": {},
   "outputs": [
    {
     "name": "stdout",
     "output_type": "stream",
     "text": [
      "Epoch 1/4\n",
      "10000/10000 [==============================] - 4s 355us/step - loss: 1.0411 - acc: 0.6562\n",
      "Epoch 2/4\n",
      "10000/10000 [==============================] - 2s 239us/step - loss: 0.4571 - acc: 0.8588\n",
      "Epoch 3/4\n",
      "10000/10000 [==============================] - 2s 240us/step - loss: 0.3505 - acc: 0.8950\n",
      "Epoch 4/4\n",
      "10000/10000 [==============================] - 2s 241us/step - loss: 0.3007 - acc: 0.9109\n",
      "10000/10000 [==============================] - 1s 78us/step\n",
      "train: 0.9594\n",
      "10000/10000 [==============================] - 1s 56us/step\n",
      "test: 0.9413\n",
      "_________________________________________________________________\n",
      "Layer (type)                 Output Shape              Param #   \n",
      "=================================================================\n",
      "dense_9 (Dense)              (None, 784)               615440    \n",
      "_________________________________________________________________\n",
      "dropout_9 (Dropout)          (None, 784)               0         \n",
      "_________________________________________________________________\n",
      "layer1 (Dense)               (None, 400)               314000    \n",
      "_________________________________________________________________\n",
      "dropout_10 (Dropout)         (None, 400)               0         \n",
      "_________________________________________________________________\n",
      "dense_10 (Dense)             (None, 10)                4010      \n",
      "=================================================================\n",
      "Total params: 933,450\n",
      "Trainable params: 933,450\n",
      "Non-trainable params: 0\n",
      "_________________________________________________________________\n"
     ]
    }
   ],
   "source": [
    "model = Sequential()\n",
    "model.add(Dense(input_dim=28*28, units=784, activation='relu'))\n",
    "model.add(Dropout(0.7));\n",
    "model.add(Dense(units=400, activation='relu',name=\"layer1\"))\n",
    "# model.add(Dropout(0.7));\n",
    "# model.add(Dense(units=200, activation='relu'))\n",
    "model.add(Dropout(0.7));\n",
    "\n",
    "model.add(Dense(units=10, activation='softmax'))\n",
    "\n",
    "model.compile(loss='categorical_crossentropy', optimizer='adam', metrics=['accuracy']) \n",
    "model.fit(x_train, y_train, batch_size=100, epochs=4)\n",
    "\n",
    "result = model.evaluate(x_train, y_train)\n",
    "print('train:',result[1])\n",
    "\n",
    "result = model.evaluate(x_test, y_test)\n",
    "print('test:',result[1])\n",
    "\n",
    "model.summary()"
   ]
  },
  {
   "cell_type": "code",
   "execution_count": 93,
   "metadata": {},
   "outputs": [
    {
     "name": "stdout",
     "output_type": "stream",
     "text": [
      "[<tf.Variable 'dense_7/kernel:0' shape=(784, 784) dtype=float32_ref>, <tf.Variable 'dense_7/bias:0' shape=(784,) dtype=float32_ref>, <tf.Variable 'layer1_3/kernel:0' shape=(784, 400) dtype=float32_ref>, <tf.Variable 'layer1_3/bias:0' shape=(400,) dtype=float32_ref>, <tf.Variable 'dense_8/kernel:0' shape=(400, 10) dtype=float32_ref>, <tf.Variable 'dense_8/bias:0' shape=(10,) dtype=float32_ref>]\n"
     ]
    }
   ],
   "source": [
    "print(model.weights)"
   ]
  },
  {
   "cell_type": "code",
   "execution_count": 95,
   "metadata": {},
   "outputs": [
    {
     "data": {
      "text/plain": [
       "<matplotlib.image.AxesImage at 0xb34953f60>"
      ]
     },
     "execution_count": 95,
     "metadata": {},
     "output_type": "execute_result"
    },
    {
     "data": {
      "image/png": "[encoded data removed]",
      "text/plain": [
       "<Figure size 432x288 with 1 Axes>"
      ]
     },
     "metadata": {
      "needs_background": "light"
     },
     "output_type": "display_data"
    }
   ],
   "source": [
    "plt.imshow(model.get_weights()[1].reshape(28,28),cmap='Greys')"
   ]
  },
  {
   "cell_type": "code",
   "execution_count": 63,
   "metadata": {},
   "outputs": [
    {
     "name": "stdout",
     "output_type": "stream",
     "text": [
      "[ 2.07913965e-02  2.91122403e-02  3.75146270e-02 -2.51171142e-02\n",
      "  6.52436353e-03  6.30563274e-02  3.95322889e-02  3.16830724e-02\n",
      "  2.30431370e-02 -6.11487925e-02  6.43854737e-02  2.89726164e-02\n",
      " -3.39932367e-02 -1.69114657e-02 -4.83745150e-02  6.01715371e-02\n",
      " -7.41174296e-02  2.12287586e-02 -2.09577270e-02 -5.25563098e-02\n",
      " -8.24324489e-02  3.55006475e-03  3.17207836e-02 -3.92312780e-02\n",
      " -1.74271930e-02  2.62524690e-02  3.35786715e-02  2.02534813e-02\n",
      " -4.48188223e-02  5.51980771e-02 -3.89665030e-02 -6.01010919e-02\n",
      " -1.55920852e-02 -3.66075747e-02 -5.28617427e-02 -3.12669165e-02\n",
      " -1.73269007e-02  3.33581679e-02  2.19174847e-02  3.83625105e-02\n",
      "  4.98903310e-03  5.67539111e-02  4.75026527e-03 -5.55103905e-02\n",
      "  1.41853970e-02 -5.54748923e-02 -1.45376020e-03  6.53439239e-02\n",
      "  7.65236542e-02  7.79639930e-02 -1.66991912e-02 -1.47971488e-03\n",
      " -7.43667334e-02  3.44150066e-02 -1.85837932e-02  6.50580302e-02\n",
      "  4.16524559e-02  4.95663211e-02 -6.20111600e-02 -1.35160973e-02\n",
      "  3.48033942e-02 -1.06421255e-01  6.10118061e-02 -5.75425923e-02\n",
      " -8.05166289e-02  5.17748445e-02  4.17450890e-02 -7.81050473e-02\n",
      " -4.86022234e-02 -7.05388002e-03 -9.93364677e-03 -4.44843024e-02\n",
      " -1.42449206e-02 -4.79117781e-02  2.79340390e-02 -7.37037435e-02\n",
      "  3.69405374e-03  2.98762042e-02 -5.11565767e-02 -3.84756066e-02\n",
      "  1.03818262e-02 -2.57206131e-02  1.65033666e-03  4.39046510e-03\n",
      " -5.96867017e-02  3.30996290e-02 -8.33032802e-02 -6.75550774e-02\n",
      " -8.12907666e-02 -7.43404357e-03 -3.48033849e-04 -8.77664611e-02\n",
      " -5.12424670e-02 -2.83111688e-02 -5.75886928e-02  2.50829048e-02\n",
      "  3.60739753e-02 -5.97257391e-02  2.55090855e-02  6.42786967e-04\n",
      " -6.55408856e-03 -4.67834994e-02 -3.84519296e-03 -5.44790290e-02\n",
      " -6.72756182e-03  2.25875080e-02  6.29910827e-02 -4.75688800e-02\n",
      " -1.82167720e-02 -4.83345389e-02 -4.53874096e-02  1.56120872e-02\n",
      "  8.32694545e-02  3.97987366e-02 -4.07579876e-02 -1.27344774e-02\n",
      " -3.76124121e-02 -1.04322145e-02 -4.31250930e-02 -3.00311763e-02\n",
      "  4.98938886e-03 -3.84026649e-03 -2.12079752e-02  5.16130291e-02\n",
      " -3.86416614e-02 -7.05680549e-02 -6.13056198e-02  5.12379035e-02\n",
      "  9.08852816e-02  4.85733040e-02  4.72676307e-02 -6.52527958e-02\n",
      " -5.00069186e-02  1.65470764e-02 -3.92120853e-02 -3.07730567e-02\n",
      "  1.33505194e-02 -2.72659939e-02 -8.62997863e-03 -4.51766327e-02\n",
      " -5.96412942e-02  3.54192406e-02  2.79029328e-02  5.33075891e-02\n",
      " -6.67805821e-02  8.20360333e-02 -3.33478041e-02 -2.52434909e-02\n",
      " -9.28054377e-03 -4.84035313e-02 -5.87056726e-02  5.31591922e-02\n",
      " -5.38128130e-02 -3.31437797e-03 -4.70551051e-04 -1.05279833e-02\n",
      " -4.82969871e-03 -6.62986264e-02 -3.94586995e-02 -4.55735531e-03\n",
      "  3.58019932e-03 -2.63939649e-02 -7.95263145e-03  7.50473142e-02\n",
      "  4.69752699e-02  3.53100002e-02 -8.60545039e-02  4.56573665e-02\n",
      "  2.74003483e-02  1.81259739e-03 -5.57453297e-02 -1.98290590e-02\n",
      "  2.92827412e-02  3.71184759e-02 -7.56454933e-03 -6.73239306e-02\n",
      "  2.84051130e-05  3.50429714e-02 -5.41176125e-02  5.64244166e-02\n",
      "  1.90090034e-02 -2.51523731e-03  9.74612497e-03 -4.25749412e-03\n",
      " -7.30362758e-02 -3.23255104e-03  5.02478816e-02 -9.16657096e-04\n",
      " -8.00542757e-02 -4.55547832e-02  7.20911380e-03 -5.52793927e-02\n",
      "  5.44081666e-02  2.63997819e-02 -7.19794189e-05 -4.18653805e-03\n",
      " -9.27851535e-03 -4.89651859e-02 -8.70085657e-02 -1.20016905e-02\n",
      "  6.71676770e-02  5.62055130e-03 -5.51486015e-02  2.23415792e-02\n",
      " -1.24364104e-02  1.04061281e-02 -3.40576135e-02 -4.26830910e-02\n",
      "  3.53772640e-02  5.25468253e-02 -4.77907360e-02 -1.97558925e-02\n",
      " -6.61086887e-02 -4.87422533e-02 -2.51901597e-02  1.25958785e-01\n",
      "  3.90184149e-02  1.23278052e-03  5.93995973e-02  7.38902017e-02\n",
      "  3.34170461e-02  1.89041253e-02 -7.73018152e-02 -2.18125451e-02\n",
      " -3.07761021e-02  2.95294216e-04  5.34922816e-02 -2.70016175e-02\n",
      " -3.35870460e-02  2.53305137e-02 -9.06276107e-02  3.38976085e-02\n",
      " -6.70008138e-02  9.04318988e-02 -3.72276045e-02  1.60511304e-02\n",
      " -1.78414434e-02 -6.60841446e-03  7.35416310e-03 -5.48566272e-03\n",
      "  2.04465222e-02  4.44443105e-03 -5.34026101e-02 -2.21574679e-03\n",
      " -6.99078813e-02 -4.59748060e-02 -2.38615852e-02 -2.81641241e-02\n",
      "  3.56409769e-03  6.78685308e-03  8.19671899e-02 -3.92562039e-02\n",
      "  8.37931708e-02  1.07601807e-01 -5.22187911e-02 -4.57441658e-02\n",
      "  3.15534770e-02  3.41916783e-03 -3.72023322e-02  2.78939214e-02\n",
      "  6.64784908e-02 -5.56872226e-02 -6.87927976e-02  5.33528887e-02\n",
      "  9.26404819e-03 -2.58219279e-02  4.67170253e-02  1.10183638e-02\n",
      "  1.89725105e-02  2.84162760e-02  5.06771654e-02  2.31285077e-02\n",
      " -4.83275205e-02 -2.05997769e-02  6.95854984e-03  3.17464136e-02\n",
      " -7.64630386e-06 -5.26986234e-02  6.32799044e-02  5.18150255e-02\n",
      "  5.54407723e-02 -7.00269714e-02 -5.96074313e-02 -4.73227305e-03\n",
      "  8.41198117e-02 -5.26212901e-02 -6.67778626e-02  5.08510806e-02\n",
      " -3.02259903e-02 -3.83156762e-02  9.52405706e-02 -6.02619303e-03\n",
      "  3.45351100e-02 -7.25142509e-02  4.69682086e-03 -3.54834907e-02\n",
      "  5.55408858e-02  1.71952434e-02  2.46130805e-02 -7.05228001e-02\n",
      "  3.81185231e-03 -9.39859916e-03 -4.02326360e-02  6.67415857e-02\n",
      "  8.64460170e-02  1.15879877e-02 -1.55728562e-02  3.01669855e-02\n",
      " -3.60189825e-02  3.73567529e-02 -3.13697532e-02  1.47306863e-02\n",
      "  8.68102238e-02  2.87729800e-02  5.67019358e-02 -6.68131188e-02\n",
      "  6.11157436e-03 -2.55263429e-02  7.21319765e-02  3.47236171e-02\n",
      " -1.35791171e-02  8.07552785e-03  2.64023859e-02 -7.09149428e-03\n",
      " -3.84075232e-02 -2.19081603e-02  8.41126814e-02 -4.89888862e-02\n",
      "  6.72018975e-02 -3.28364298e-02  2.78558042e-02  9.88658592e-02\n",
      "  1.65562928e-02  9.50647704e-03  5.73265813e-02 -3.86833064e-02\n",
      " -1.02793835e-02  4.49579731e-02 -2.43461542e-02 -4.33128811e-02\n",
      " -3.18400189e-02  4.54867668e-02  4.52373959e-02 -4.23956364e-02\n",
      "  5.28244786e-02  4.01548371e-02  5.55553362e-02  3.72160971e-02\n",
      " -7.05829859e-02  1.37337868e-03 -6.30298927e-02 -5.11929318e-02\n",
      " -2.13496629e-02  2.38041207e-02 -8.83145854e-02  7.32309967e-02\n",
      " -6.64232746e-02 -1.42744533e-03  1.64807700e-02 -8.32982510e-02\n",
      "  4.63070534e-02  5.48433512e-02 -3.32318693e-02  4.60614301e-02\n",
      " -9.38799698e-03 -2.18425561e-02  5.29752448e-02  7.52441585e-02\n",
      " -1.04317321e-02  5.74385449e-02 -4.83485386e-02  4.62820120e-02\n",
      "  4.29073796e-02  1.47094931e-02 -3.10473051e-02 -1.71344485e-02\n",
      "  1.53100230e-02 -5.23500182e-02 -9.64312777e-02 -5.33719324e-02\n",
      "  6.26535639e-02 -4.47991192e-02 -1.68461036e-02 -5.11475094e-02\n",
      " -2.05583517e-02 -5.80576733e-02  3.52530042e-03  5.34534119e-02\n",
      "  3.58385369e-02  5.15555555e-04  3.70817967e-02  5.37308194e-02\n",
      "  3.42119522e-02 -3.27197351e-02  3.98701765e-02 -3.52101102e-02\n",
      "  2.94777956e-02 -6.29259199e-02 -9.62800831e-02  2.28457488e-02]\n"
     ]
    }
   ],
   "source": [
    "print(model.get_layer('layer1').get_weights()[0][0])"
   ]
  },
  {
   "cell_type": "code",
   "execution_count": 88,
   "metadata": {},
   "outputs": [
    {
     "data": {
      "text/plain": [
       "<matplotlib.image.AxesImage at 0xb3486b828>"
      ]
     },
     "execution_count": 88,
     "metadata": {},
     "output_type": "execute_result"
    },
    {
     "data": {
      "image/png": "[encoded data removed]",
      "text/plain": [
       "<Figure size 288x288 with 1 Axes>"
      ]
     },
     "metadata": {
      "needs_background": "light"
     },
     "output_type": "display_data"
    }
   ],
   "source": [
    "# for i in range(10):\n",
    "plt.matshow(model.get_layer('layer1').get_weights()[1].reshape(20,20),cmap='Greys')"
   ]
  },
  {
   "cell_type": "code",
   "execution_count": null,
   "metadata": {},
   "outputs": [],
   "source": []
  }
 ],
 "metadata": {
  "kernelspec": {
   "display_name": "Python 3",
   "language": "python",
   "name": "python3"
  },
  "language_info": {
   "codemirror_mode": {
    "name": "ipython",
    "version": 3
   },
   "file_extension": ".py",
   "mimetype": "text/x-python",
   "name": "python",
   "nbconvert_exporter": "python",
   "pygments_lexer": "ipython3",
   "version": "3.6.8"
  }
 },
 "nbformat": 4,
 "nbformat_minor": 2
}
