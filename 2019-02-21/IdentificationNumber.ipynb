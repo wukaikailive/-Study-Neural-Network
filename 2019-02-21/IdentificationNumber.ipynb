{
 "cells": [
  {
   "cell_type": "code",
   "execution_count": 51,
   "metadata": {},
   "outputs": [],
   "source": [
    "import numpy\n",
    "import scipy.special\n",
    "import matplotlib.pyplot\n",
    "%matplotlib inline"
   ]
  },
  {
   "cell_type": "code",
   "execution_count": 68,
   "metadata": {},
   "outputs": [],
   "source": [
    "# nerual network class definition\n",
    "class neuralNetwork:\n",
    "    #initialise the neural network\n",
    "    def __init__(self,inputnodes,hiddennodes,outputnodes,learningrate):\n",
    "        self.inodes = inputnodes\n",
    "        self.hnodes = hiddennodes\n",
    "        self.onodes = outputnodes\n",
    "        \n",
    "        self.lr = learningrate\n",
    "        \n",
    "        self.wih = numpy.random.normal(0.0,pow(self.hnodes,-0.5),(self.hnodes,self.inodes))\n",
    "        self.who = numpy.random.normal(0.0,pow(self.onodes,-0.5),(self.onodes,self.hnodes))\n",
    "        \n",
    "        self.activation_function = lambda x: scipy.special.expit(x)\n",
    "        pass\n",
    "    \n",
    "    def train(self,inputs_list,targets_list):\n",
    "        inputs = numpy.array(inputs_list,ndmin=2).T\n",
    "        targets = numpy.array(targets_list,ndmin=2).T\n",
    "        \n",
    "        hidden_inputs = numpy.dot(self.wih,inputs)\n",
    "        hidden_outputs = self.activation_function(hidden_inputs)\n",
    "        \n",
    "        final_inputs = numpy.dot(self.who,hidden_outputs)\n",
    "        final_outputs = self.activation_function(final_inputs)\n",
    "        \n",
    "        # 计算误差\n",
    "        output_errors =  targets - final_outputs\n",
    "        \n",
    "        hidden_errors = numpy.dot(self.who.T,output_errors)\n",
    "        \n",
    "        self.who += self.lr * numpy.dot((output_errors * final_outputs * (1.0 - final_outputs)),numpy.transpose(hidden_outputs))\n",
    "        \n",
    "        self.wih += self.lr * numpy.dot((hidden_errors * hidden_outputs * (1.0 - hidden_outputs)),numpy.transpose(inputs))\n",
    "        pass\n",
    "    def query(self,inputs_list):\n",
    "        inputs = numpy.array(inputs_list,ndmin=2).T\n",
    "        hidden_inputs =numpy.dot(self.wih,inputs)\n",
    "        hidden_outputs = self.activation_function(hidden_inputs)\n",
    "        final_inputs = numpy.dot(self.who,hidden_outputs)\n",
    "        final_outputs = self.activation_function(final_inputs)\n",
    "        return final_outputs\n",
    "        pass\n",
    "    "
   ]
  },
  {
   "cell_type": "code",
   "execution_count": 69,
   "metadata": {},
   "outputs": [],
   "source": [
    "input_nodes = 784\n",
    "hidden_nodes = 100\n",
    "output_nodes = 10\n",
    "\n",
    "learning_rate=0.1\n",
    "\n",
    "n = neuralNetwork(input_nodes,hidden_nodes,output_nodes,learning_rate)\n",
    "\n",
    "training_data_file = open(\"mnist_dataset/mnist_train.csv\", 'r')\n",
    "training_data_list = training_data_file.readlines()\n",
    "training_data_file.close()\n",
    "\n",
    "epochs = 7\n",
    "\n",
    "for e in range(epochs):\n",
    "    for record in training_data_list:\n",
    "        all_values = record.split(',')\n",
    "        inputs = (numpy.asfarray(all_values[1:])/255.0*0.99)+0.01\n",
    "        targets = numpy.zeros(output_nodes) + 0.01\n",
    "        targets[int(all_values[0])] = 0.99\n",
    "        n.train(inputs,targets)\n",
    "        pass\n",
    "    pass\n",
    "\n",
    "\n"
   ]
  },
  {
   "cell_type": "code",
   "execution_count": 70,
   "metadata": {},
   "outputs": [],
   "source": [
    "test_data_file = open(\"mnist_dataset/mnist_test.csv\", 'r')\n",
    "test_data_list = test_data_file.readlines()\n",
    "test_data_file.close()"
   ]
  },
  {
   "cell_type": "code",
   "execution_count": 83,
   "metadata": {},
   "outputs": [],
   "source": [
    "scorecard = []\n",
    "\n",
    "for record in test_data_list:\n",
    "    all_values = record.split(',')\n",
    "    correct_label = int(all_values[0])\n",
    " #   print(correct_label,\"correct label\")\n",
    "    inputs = (numpy.asfarray(all_values[1:])/255.0*0.99)+0.01\n",
    "    outputs = n.query(inputs)\n",
    "    label = numpy.argmax(outputs)\n",
    "#   print(label,\"network's answer\")\n",
    "    if(label == correct_label):\n",
    "        scorecard.append(1)\n",
    "    else:\n",
    "        scorecard.append(0)\n",
    "        pass\n",
    "    pass\n",
    "            \n",
    "    "
   ]
  },
  {
   "cell_type": "code",
   "execution_count": 84,
   "metadata": {},
   "outputs": [
    {
     "name": "stdout",
     "output_type": "stream",
     "text": [
      "performance =  0.9669\n"
     ]
    }
   ],
   "source": [
    "scorecard_array = numpy.asarray(scorecard)\n",
    "print(\"performance = \",scorecard_array.sum() / scorecard_array.size)"
   ]
  },
  {
   "cell_type": "code",
   "execution_count": 85,
   "metadata": {},
   "outputs": [],
   "source": [
    "import imageio\n",
    "\n",
    "import glob\n"
   ]
  },
  {
   "cell_type": "code",
   "execution_count": 86,
   "metadata": {},
   "outputs": [
    {
     "name": "stdout",
     "output_type": "stream",
     "text": [
      "loading ...  my_own_images/8.png\n",
      "28\n",
      "0.01\n",
      "0.86800003\n",
      "loading ...  my_own_images/9.png\n",
      "28\n",
      "0.01\n",
      "0.8718824\n",
      "loading ...  my_own_images/4.png\n",
      "28\n",
      "0.01\n",
      "0.96117646\n",
      "loading ...  my_own_images/5.png\n",
      "28\n",
      "0.01\n",
      "0.94564706\n",
      "loading ...  my_own_images/7.png\n",
      "28\n",
      "0.01\n",
      "0.8718824\n",
      "loading ...  my_own_images/6.png\n",
      "28\n",
      "0.01\n",
      "0.8602353\n",
      "loading ...  my_own_images/2.png\n",
      "28\n",
      "0.01\n",
      "0.8718824\n",
      "loading ...  my_own_images/3.png\n",
      "28\n",
      "0.01\n",
      "0.8718824\n",
      "loading ...  my_own_images/1.png\n",
      "28\n",
      "0.01\n",
      "0.8641177\n",
      "loading ...  my_own_images/0.png\n",
      "28\n",
      "0.01\n",
      "0.86800003\n"
     ]
    }
   ],
   "source": [
    "our_own_dataset = []\n",
    "for image_file_name in glob.glob('my_own_images/?.png'):\n",
    "    print (\"loading ... \", image_file_name)\n",
    "    label = int(image_file_name[-5:-4])\n",
    "    img_array = imageio.imread(image_file_name, as_gray=True)\n",
    "    print(len(img_array))\n",
    "    img_data  = 255.0 - img_array.reshape(784)\n",
    "    img_data = (img_data / 255.0 * 0.99) + 0.01\n",
    "    print(numpy.min(img_data))\n",
    "    print(numpy.max(img_data))\n",
    "    record = numpy.append(label,img_data)\n",
    "#     print(record)\n",
    "    our_own_dataset.append(record)\n",
    "#     targets = numpy.zeros(output_nodes) + 0.01\n",
    "#     targets[label] = 0.99\n",
    "#     n.train(img_data,targets)\n",
    "    pass"
   ]
  },
  {
   "cell_type": "code",
   "execution_count": 87,
   "metadata": {},
   "outputs": [
    {
     "data": {
      "text/plain": [
       "<matplotlib.image.AxesImage at 0x81aceebe0>"
      ]
     },
     "execution_count": 87,
     "metadata": {},
     "output_type": "execute_result"
    },
    {
     "data": {
      "image/png": "[encoded data removed]",
      "text/plain": [
       "<Figure size 432x288 with 1 Axes>"
      ]
     },
     "metadata": {
      "needs_background": "light"
     },
     "output_type": "display_data"
    }
   ],
   "source": [
    "matplotlib.pyplot.imshow(our_own_dataset[0][1:].reshape(28,28), cmap='Greys', interpolation='None')"
   ]
  },
  {
   "cell_type": "code",
   "execution_count": 90,
   "metadata": {},
   "outputs": [
    {
     "name": "stdout",
     "output_type": "stream",
     "text": [
      "8 正确的数字\n",
      "9 神经网络认为\n",
      "9 正确的数字\n",
      "9 神经网络认为\n",
      "4 正确的数字\n",
      "4 神经网络认为\n",
      "5 正确的数字\n",
      "5 神经网络认为\n",
      "7 正确的数字\n",
      "7 神经网络认为\n",
      "6 正确的数字\n",
      "6 神经网络认为\n",
      "2 正确的数字\n",
      "2 神经网络认为\n",
      "3 正确的数字\n",
      "3 神经网络认为\n",
      "1 正确的数字\n",
      "1 神经网络认为\n",
      "0 正确的数字\n",
      "0 神经网络认为\n",
      "my_performance =  0.9\n"
     ]
    }
   ],
   "source": [
    "my_scorecard = []\n",
    "\n",
    "for record in our_own_dataset:\n",
    "    correct_label = int(record[0])\n",
    "    print(correct_label,\"正确的数字\")\n",
    "    inputs = record[1:]\n",
    "    outputs = n.query(inputs)\n",
    "    label = numpy.argmax(outputs)\n",
    "    print(label,\"神经网络认为\")\n",
    "    if(label == correct_label):\n",
    "        my_scorecard.append(1)\n",
    "    else:\n",
    "        my_scorecard.append(0)\n",
    "        pass\n",
    "    pass\n",
    "\n",
    "my_scorecard_array = numpy.asarray(my_scorecard)\n",
    "print(\"my_performance = \",my_scorecard_array.sum() / my_scorecard_array.size)"
   ]
  },
  {
   "cell_type": "code",
   "execution_count": 91,
   "metadata": {},
   "outputs": [],
   "source": [
    "import imageio\n",
    "\n",
    "import glob\n",
    "\n",
    "import numpy\n",
    "import matplotlib.pyplot\n",
    "%matplotlib inline"
   ]
  },
  {
   "cell_type": "code",
   "execution_count": null,
   "metadata": {},
   "outputs": [],
   "source": []
  },
  {
   "cell_type": "code",
   "execution_count": null,
   "metadata": {},
   "outputs": [],
   "source": []
  },
  {
   "cell_type": "code",
   "execution_count": null,
   "metadata": {},
   "outputs": [],
   "source": []
  }
 ],
 "metadata": {
  "kernelspec": {
   "display_name": "Python 3",
   "language": "python",
   "name": "python3"
  },
  "language_info": {
   "codemirror_mode": {
    "name": "ipython",
    "version": 3
   },
   "file_extension": ".py",
   "mimetype": "text/x-python",
   "name": "python",
   "nbconvert_exporter": "python",
   "pygments_lexer": "ipython3",
   "version": "3.6.8"
  }
 },
 "nbformat": 4,
 "nbformat_minor": 2
}
